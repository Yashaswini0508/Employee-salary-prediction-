{
  "nbformat": 4,
  "nbformat_minor": 0,
  "metadata": {
    "colab": {
      "provenance": [],
      "authorship_tag": "ABX9TyNZclqHYR/jHfniSyq3HTOU",
      "include_colab_link": true
    },
    "kernelspec": {
      "name": "python3",
      "display_name": "Python 3"
    },
    "language_info": {
      "name": "python"
    }
  },
  "cells": [
    {
      "cell_type": "markdown",
      "metadata": {
        "id": "view-in-github",
        "colab_type": "text"
      },
      "source": [
        "<a href=\"https://colab.research.google.com/github/Yashaswini0508/Employee-salary-prediction-/blob/main/employee_salary_prediction.ipynb\" target=\"_parent\"><img src=\"https://colab.research.google.com/assets/colab-badge.svg\" alt=\"Open In Colab\"/></a>"
      ]
    },
    {
      "cell_type": "code",
      "execution_count": null,
      "metadata": {
        "id": "ZNHgfTO5ROuz"
      },
      "outputs": [],
      "source": [
        "#Employee salary prediction using adult csv\n",
        "#Load your Libarary\n",
        "import pandas as pd"
      ]
    },
    {
      "cell_type": "code",
      "source": [
        "data=pd.read_csv(\"/content/adult .csv\")"
      ],
      "metadata": {
        "id": "5gQx15ODSxTu"
      },
      "execution_count": null,
      "outputs": []
    },
    {
      "cell_type": "code",
      "source": [
        "data"
      ],
      "metadata": {
        "id": "ip4CErOKVTgj"
      },
      "execution_count": null,
      "outputs": []
    },
    {
      "cell_type": "code",
      "source": [
        "data.shape"
      ],
      "metadata": {
        "id": "ok9nVs-WVdrw"
      },
      "execution_count": null,
      "outputs": []
    },
    {
      "cell_type": "code",
      "source": [
        "#Null Values\n",
        "data.isna()"
      ],
      "metadata": {
        "id": "d4uoE7_B-D6l"
      },
      "execution_count": null,
      "outputs": []
    },
    {
      "cell_type": "code",
      "source": [
        "data.isna().sum()"
      ],
      "metadata": {
        "id": "QKpAYYXM-x0J"
      },
      "execution_count": null,
      "outputs": []
    },
    {
      "cell_type": "code",
      "source": [
        "print(data.occupation.value_counts())"
      ],
      "metadata": {
        "id": "9KZ1IG1o--D0"
      },
      "execution_count": null,
      "outputs": []
    },
    {
      "cell_type": "code",
      "source": [
        "print(data.gender.value_counts())"
      ],
      "metadata": {
        "id": "gANnsiwAVSiw"
      },
      "execution_count": null,
      "outputs": []
    },
    {
      "cell_type": "code",
      "source": [
        "print(data['marital-status'].value_counts())"
      ],
      "metadata": {
        "id": "0zp6iTAcWS8n"
      },
      "execution_count": null,
      "outputs": []
    },
    {
      "cell_type": "code",
      "source": [
        "print(data['education'].value_counts())"
      ],
      "metadata": {
        "id": "fzH_vym4WtTJ"
      },
      "execution_count": null,
      "outputs": []
    },
    {
      "cell_type": "code",
      "source": [
        "print(data['workclass'].value_counts())"
      ],
      "metadata": {
        "id": "ObFfAH_rW4ub"
      },
      "execution_count": null,
      "outputs": []
    },
    {
      "cell_type": "code",
      "source": [
        "data.occupation.replace({'?':'others'},inplace=True)"
      ],
      "metadata": {
        "id": "Pquh7IpvXFI_"
      },
      "execution_count": null,
      "outputs": []
    },
    {
      "cell_type": "code",
      "source": [
        "print(data.occupation.value_counts())"
      ],
      "metadata": {
        "id": "WEoYlJHhYKyO"
      },
      "execution_count": null,
      "outputs": []
    },
    {
      "cell_type": "code",
      "source": [
        "data"
      ],
      "metadata": {
        "id": "C9K_qs32YqvJ"
      },
      "execution_count": null,
      "outputs": []
    },
    {
      "cell_type": "code",
      "source": [
        "data.workclass.replace({'?':'Notlisted'},inplace=True)"
      ],
      "metadata": {
        "id": "3Q66iugQYytT"
      },
      "execution_count": null,
      "outputs": []
    },
    {
      "cell_type": "code",
      "source": [
        "print(data['workclass'].value_counts())"
      ],
      "metadata": {
        "id": "i2ZXmox0ZENV"
      },
      "execution_count": null,
      "outputs": []
    },
    {
      "cell_type": "code",
      "source": [
        "data=data[data['workclass']!='without pay']\n",
        "data=data[data['workclass']!='Never-worked']"
      ],
      "metadata": {
        "id": "nLfOZ0qEZMUu"
      },
      "execution_count": null,
      "outputs": []
    },
    {
      "cell_type": "code",
      "source": [
        "print(data['workclass'].value_counts())"
      ],
      "metadata": {
        "id": "Jop0h-dDaNry"
      },
      "execution_count": null,
      "outputs": []
    },
    {
      "cell_type": "code",
      "source": [
        "data.shape"
      ],
      "metadata": {
        "id": "mGHnh38AaYnw"
      },
      "execution_count": null,
      "outputs": []
    },
    {
      "cell_type": "code",
      "source": [
        "data=data[data['education']!='5th-6th']\n",
        "data=data[data['education']!='1st-4th']\n",
        "data=data[data['education']!='preschool']"
      ],
      "metadata": {
        "id": "7IqZqfjQat8T"
      },
      "execution_count": null,
      "outputs": []
    },
    {
      "cell_type": "code",
      "source": [
        "print(data['education'].value_counts())"
      ],
      "metadata": {
        "id": "OkiVV83Lbdsh"
      },
      "execution_count": null,
      "outputs": []
    },
    {
      "cell_type": "code",
      "source": [
        "data.shape"
      ],
      "metadata": {
        "id": "yn5pNmGybabX"
      },
      "execution_count": null,
      "outputs": []
    },
    {
      "cell_type": "code",
      "source": [
        "#redundancy\n",
        "data.drop(columns=['education'],inplace=True)"
      ],
      "metadata": {
        "id": "-pdAuilrb1Hm"
      },
      "execution_count": null,
      "outputs": []
    },
    {
      "cell_type": "code",
      "source": [
        "data"
      ],
      "metadata": {
        "id": "UFExWOcugqyi"
      },
      "execution_count": null,
      "outputs": []
    },
    {
      "cell_type": "code",
      "source": [
        "#outlier\n",
        "import matplotlib.pyplot as plt\n",
        "plt.boxplot(data['age'])\n",
        "plt.show()"
      ],
      "metadata": {
        "id": "yuWynPPLgu6G"
      },
      "execution_count": null,
      "outputs": []
    },
    {
      "cell_type": "code",
      "source": [
        "data=data[(data ['age']<=75)&(data['age']>=17)]"
      ],
      "metadata": {
        "id": "2vJzpVvHhlIR"
      },
      "execution_count": null,
      "outputs": []
    },
    {
      "cell_type": "code",
      "source": [
        "plt.boxplot(data['age'])\n",
        "plt.show()"
      ],
      "metadata": {
        "id": "CyANOhqjiVud"
      },
      "execution_count": null,
      "outputs": []
    },
    {
      "cell_type": "code",
      "source": [
        "#Label encoding\n",
        "from sklearn.preprocessing import LabelEncoder\n",
        "encode=LabelEncoder()\n",
        "data['workclass']=encode.fit_transform(data['workclass'])\n",
        "data['marital-status']=encode.fit_transform(data['marital-status'])\n",
        "data['occupation']=encode.fit_transform(data['occupation'])\n",
        "data['relationship']=encode.fit_transform(data['relationship'])\n",
        "data['race']=encode.fit_transform(data['race'])\n",
        "data['gender']=encode.fit_transform(data['gender'])\n",
        "data['native-country']=encode.fit_transform(data['native-country'])\n",
        "data"
      ],
      "metadata": {
        "id": "5heDuOMPidtq"
      },
      "execution_count": null,
      "outputs": []
    },
    {
      "cell_type": "code",
      "source": [
        "x=data.drop(columns=['income'])\n",
        "y=data['income']\n",
        "x"
      ],
      "metadata": {
        "id": "2P1hfrv-Z2as"
      },
      "execution_count": null,
      "outputs": []
    },
    {
      "cell_type": "code",
      "source": [
        "x"
      ],
      "metadata": {
        "id": "Dl8pnun0YVi2"
      },
      "execution_count": null,
      "outputs": []
    },
    {
      "cell_type": "code",
      "source": [
        "y"
      ],
      "metadata": {
        "id": "ki3vPMjubYzy"
      },
      "execution_count": null,
      "outputs": []
    },
    {
      "cell_type": "code",
      "source": [
        "from sklearn.preprocessing import MinMaxScaler\n",
        "scaler=MinMaxScaler()\n",
        "x=scaler.fit_transform(x)\n",
        "x"
      ],
      "metadata": {
        "id": "xMv_-9x5bh6y"
      },
      "execution_count": null,
      "outputs": []
    },
    {
      "cell_type": "code",
      "source": [
        "from sklearn.model_selection import train_test_split\n",
        "x_train,x_test,y_train,y_test=train_test_split(x,y,test_size=0.2,random_state=23,stratify=y)"
      ],
      "metadata": {
        "id": "Vvwv46wlcHul"
      },
      "execution_count": null,
      "outputs": []
    },
    {
      "cell_type": "code",
      "source": [
        "x_train"
      ],
      "metadata": {
        "id": "NuDte7_ocfgD"
      },
      "execution_count": null,
      "outputs": []
    },
    {
      "cell_type": "code",
      "source": [
        "#machine Learning algorithm\n",
        "from sklearn.neighbors import KNeighborsClassifier\n",
        "knn=KNeighborsClassifier()\n",
        "knn.fit(x_train,y_train)\n",
        "predict=knn.predict(x_test)\n",
        "predict"
      ],
      "metadata": {
        "id": "GlOo8ErScoZb"
      },
      "execution_count": null,
      "outputs": []
    },
    {
      "cell_type": "code",
      "source": [
        "from sklearn.metrics import accuracy_score\n",
        "accuracy_score(y_test,predict)"
      ],
      "metadata": {
        "id": "9qoGgxOAdXrf"
      },
      "execution_count": null,
      "outputs": []
    },
    {
      "cell_type": "code",
      "source": [
        "from sklearn.linear_model import LogisticRegression\n",
        "lr=LogisticRegression()\n",
        "lr.fit(x_train,y_train)\n",
        "predict=lr.predict(x_test)\n",
        "predict"
      ],
      "metadata": {
        "id": "d8U--pB9dpcg"
      },
      "execution_count": null,
      "outputs": []
    },
    {
      "cell_type": "code",
      "source": [
        "from sklearn.metrics import accuracy_score\n",
        "accuracy_score(y_test,predict)"
      ],
      "metadata": {
        "id": "eGennIjBd6vq"
      },
      "execution_count": null,
      "outputs": []
    },
    {
      "cell_type": "code",
      "source": [
        "from sklearn.neural_network import MLPClassifier\n",
        "clf=MLPClassifier(solver='adam',hidden_layer_sizes=(5,2),random_state=2,max_iter=2000)\n",
        "clf.fit(x_train,y_train)\n",
        "predict2=clf.predict(x_test)\n",
        "predict2"
      ],
      "metadata": {
        "id": "zXZRU1AyeE_w"
      },
      "execution_count": null,
      "outputs": []
    },
    {
      "cell_type": "code",
      "source": [
        "from sklearn.metrics import accuracy_score\n",
        "accuracy_score(y_test,predict2)"
      ],
      "metadata": {
        "id": "deLz7m7vfdXd"
      },
      "execution_count": null,
      "outputs": []
    },
    {
      "cell_type": "code",
      "source": [
        "from sklearn.pipeline import Pipeline\n",
        "from sklearn.model_selection import train_test_split\n",
        "from sklearn.metrics import accuracy_score, classification_report\n",
        "from sklearn.linear_model import LogisticRegression\n",
        "from sklearn.ensemble import RandomForestClassifier, GradientBoostingClassifier\n",
        "from sklearn.neighbors import KNeighborsClassifier\n",
        "from sklearn.svm import SVC\n",
        "from sklearn.preprocessing import StandardScaler, OneHotEncoder\n",
        "\n",
        "X_train, X_test, y_train, y_test = train_test_split(x, y, test_size=0.2, random_state=42)\n",
        "models = {\n",
        "\"LogisticRegression\": LogisticRegression(),\n",
        "\"RandomForest\": RandomForestClassifier(),\n",
        "\"KNN\": KNeighborsClassifier(),\n",
        "\"SVM\": SVC(),\n",
        "\"GradientBoosting\": GradientBoostingClassifier()\n",
        "}\n",
        "results = {}\n",
        "for name, model in models.items():\n",
        "    pipe = Pipeline([\n",
        "         ('scaler', StandardScaler()),\n",
        "         ('model', model)\n",
        "])\n",
        "\n",
        "pipe.fit(X_train, y_train)\n",
        "y_pred = pipe.predict(X_test)\n",
        "acc = accuracy_score(y_test, y_pred)\n",
        "results [name] = acc\n",
        "print(f\"{name} Accuracy: (acc:.4f)\")\n",
        "print(classification_report(y_test, y_pred))\n",
        "\n",
        "\n"
      ],
      "metadata": {
        "id": "NwBK4BNufkEb"
      },
      "execution_count": null,
      "outputs": []
    },
    {
      "cell_type": "code",
      "source": [
        "import matplotlib.pyplot as plt\n",
        "\n",
        "plt.bar(results.keys(), results.values(), color='skyblue')\n",
        "plt.ylabel('Accuracy Score')\n",
        "plt.title('Model Comparison')\n",
        "plt.xticks (rotation=45)\n",
        "plt.grid(True)\n",
        "plt.show()"
      ],
      "metadata": {
        "id": "80YK1GwIjIl1"
      },
      "execution_count": null,
      "outputs": []
    },
    {
      "cell_type": "code",
      "source": [
        "from sklearn.pipeline import Pipeline\n",
        "from sklearn.model_selection import train_test_split\n",
        "from sklearn.metrics import accuracy_score, classification_report\n",
        "from sklearn.linear_model import LogisticRegression\n",
        "from sklearn.ensemble import RandomForestClassifier, GradientBoostingClassifier\n",
        "from sklearn.neighbors import KNeighborsClassifier\n",
        "from sklearn.svm import SVC\n",
        "from sklearn.preprocessing import StandardScaler, OneHotEncoder\n",
        "import joblib\n",
        "\n",
        "X_train, X_test, y_train, y_test = train_test_split(x, y, test_size=0.2, random_state=42)\n",
        "models = {\n",
        "\"LogisticRegression\": LogisticRegression(),\n",
        "\"RandomForest\": RandomForestClassifier(),\n",
        "\"KNN\": KNeighborsClassifier(),\n",
        "\"SVM\": SVC(),\n",
        "\"GradientBoosting\": GradientBoostingClassifier()\n",
        "}\n",
        "results = {}\n",
        "#Train and evaluate\n",
        "for name, model in models.items():\n",
        "    model.fit(X_train, y_train)\n",
        "    preds=model.predict(X_test)\n",
        "    acc=accuracy_score(y_test, preds)\n",
        "    results[name] = acc\n",
        "    print(f\"{name}: {acc:.4f}\")\n",
        "#Get best model\n",
        "best_model_name = max(results, key=results.get)\n",
        "best_model=models [best_model_name]\n",
        "print(f\"\\n Best model: {best_model_name} with accuracy {results[best_model_name]:.4f}\")\n",
        "\n",
        "#Save the best model\n",
        "joblib.dump(best_model, \"best_model.pkl\")\n",
        "print(\"Saved best model as best_model.pkl\")"
      ],
      "metadata": {
        "id": "Y8iAUSmxwUvI"
      },
      "execution_count": null,
      "outputs": []
    },
    {
      "cell_type": "code",
      "source": [
        "!pip install -q streamlit"
      ],
      "metadata": {
        "id": "ddPJvthwaspn"
      },
      "execution_count": null,
      "outputs": []
    },
    {
      "cell_type": "code",
      "source": [
        "import streamlit as st\n",
        "import pandas as pd\n",
        "import joblib\n",
        "import shap\n",
        "import matplotlib.pyplot as plt\n",
        "import plotly.express as px\n",
        "\n",
        "# --- Custom CSS for Peach Pink Background ---\n",
        "st.markdown(\"\"\"\n",
        "    <style>\n",
        "    .stApp {\n",
        "        background-color: #ffe5ec;\n",
        "    }\n",
        "    </style>\n",
        "\"\"\", unsafe_allow_html=True)\n",
        "\n",
        "# --- App Configuration ---\n",
        "st.set_page_config(\n",
        "    page_title=\"💼 AI Salary Predictor\",\n",
        "    page_icon=\"🧠\",\n",
        "    layout=\"centered\"\n",
        ")\n",
        "\n",
        "# --- Load Model ---\n",
        "try:\n",
        "    model = joblib.load(\"best_model.pkl\")\n",
        "except FileNotFoundError:\n",
        "    st.error(\"🚨 Model file 'best_model.pkl' not found. Please upload the trained model.\")\n",
        "    st.stop()\n",
        "\n",
        "# --- App Header ---\n",
        "st.markdown(\"\"\"\n",
        "    <div style=\"text-align:center\">\n",
        "        <h1>💼 AI-Powered Salary Classifier</h1>\n",
        "        <p style=\"font-size:18px;\">Predict whether an employee earns <strong>>$50K</strong> using machine learning magic 🧙‍♂️</p>\n",
        "        <hr style=\"border:1px solid #f0f0f0\">\n",
        "    </div>\n",
        "\"\"\", unsafe_allow_html=True)\n",
        "\n",
        "# --- Sidebar Inputs ---\n",
        "st.sidebar.title(\"📋 Enter Employee Details\")\n",
        "st.sidebar.markdown(\"Please provide the following information:\")\n",
        "\n",
        "age = st.sidebar.slider(\"👤 Age\", 18, 65, 30, help=\"Select the employee's age\")\n",
        "education = st.sidebar.selectbox(\"🎓 Education Level\", [\n",
        "    \"Bachelors\", \"Masters\", \"PhD\", \"HS-grad\", \"Assoc\", \"Some-college\"\n",
        "], help=\"Choose the highest education qualification\")\n",
        "\n",
        "occupation = st.sidebar.selectbox(\"💼 Occupation\", [\n",
        "    \"Tech-support\", \"Craft-repair\", \"Other-service\", \"Sales\",\n",
        "    \"Exec-managerial\", \"Prof-specialty\", \"Handlers-cleaners\",\n",
        "    \"Machine-op-inspct\", \"Adm-clerical\", \"Farming-fishing\",\n",
        "    \"Transport-moving\", \"Priv-house-serv\", \"Protective-serv\",\n",
        "    \"Armed-Forces\"\n",
        "], help=\"Select the employee's job role\")\n",
        "\n",
        "hours_per_week = st.sidebar.slider(\"⏱️ Working Hours/Week\", 1, 80, 40, help=\"Average hours worked per week\")\n",
        "experience = st.sidebar.slider(\"🏆 Experience (Years)\", 0, 40, 5, help=\"Total years of professional experience\")\n",
        "\n",
        "# --- Input Summary ---\n",
        "input_df = pd.DataFrame({\n",
        "    'age': [age],\n",
        "    'education': [education],\n",
        "    'occupation': [occupation],\n",
        "    'hours-per-week': [hours_per_week],\n",
        "    'experience': [experience]\n",
        "})\n",
        "\n",
        "with st.expander(\"📄 See Your Input Summary\", expanded=True):\n",
        "    st.write(input_df)\n",
        "\n",
        "# --- Prediction ---\n",
        "st.markdown(\"## 🔍 Prediction Engine\")\n",
        "if st.button(\"🚀 Predict Salary Class\"):\n",
        "    prediction = model.predict(input_df)[0]\n",
        "\n",
        "    if prediction == \">50K\":\n",
        "        st.success(\"🎉 The employee is likely to earn **more than $50K**! 🚀\")\n",
        "        st.balloons()\n",
        "        st.markdown(\"💡 Keep up the great work, your profile is strong and promising!\")\n",
        "    else:\n",
        "        st.warning(\"🧾 The employee is predicted to earn **$50K or less**.\")\n",
        "        st.markdown(\"📘 Consider skill upgradation, certifications, or new opportunities to boost earning potential.\")\n",
        "\n",
        "    # --- SHAP Explainability ---\n",
        "    st.subheader(\"📊 Feature Impact Explanation (SHAP)\")\n",
        "    try:\n",
        "        explainer = shap.Explainer(model)\n",
        "        shap_values = explainer(input_df)\n",
        "        fig, ax = plt.subplots()\n",
        "        shap.plots.waterfall(shap_values[0], max_display=5)\n",
        "        st.pyplot(fig)\n",
        "    except Exception as e:\n",
        "        st.error(f\"SHAP explanation failed: {e}\")\n",
        "\n",
        "# --- Batch Prediction ---\n",
        "st.markdown(\"---\")\n",
        "st.header(\"📁 Batch Prediction - Upload CSV\")\n",
        "\n",
        "uploaded_file = st.file_uploader(\"📤 Upload a CSV file with employee data\", type=[\"csv\"])\n",
        "\n",
        "if uploaded_file is not None:\n",
        "    try:\n",
        "        batch_data = pd.read_csv(uploaded_file)\n",
        "\n",
        "        st.success(\"✅ File uploaded successfully! Here's a preview:\")\n",
        "        st.dataframe(batch_data.head())\n",
        "\n",
        "        batch_preds = model.predict(batch_data)\n",
        "        batch_data['PredictedSalaryClass'] = batch_preds\n",
        "\n",
        "        st.subheader(\"📊 Prediction Results\")\n",
        "        st.dataframe(batch_data)\n",
        "\n",
        "        csv = batch_data.to_csv(index=False).encode('utf-8')\n",
        "        st.download_button(\n",
        "            label=\"⬇️ Download Predicted Results CSV\",\n",
        "            data=csv,\n",
        "            file_name='salary_predictions.csv',\n",
        "            mime='text/csv'\n",
        "        )\n",
        "\n",
        "        st.toast(\"🎯 Batch prediction complete!\")\n",
        "    except Exception as e:\n",
        "        st.error(f\"🚫 Error: {e}\")\n",
        "\n",
        "# --- Optional Visualization ---\n",
        "st.markdown(\"---\")\n",
        "st.subheader(\"📈 Salary Distribution Overview (Sample Data)\")\n",
        "\n",
        "try:\n",
        "    sample_data = pd.read_csv(\"sample_salary_data.csv\")\n",
        "    fig = px.histogram(sample_data, x=\"education\", color=\"salary\", barmode=\"group\")\n",
        "    st.plotly_chart(fig)\n",
        "except Exception:\n",
        "    st.info(\"ℹ️ Upload a 'sample_salary_data.csv' file for visualization of salary distribution.\")\n",
        "\n"
      ],
      "metadata": {
        "id": "Wcz9ZcqnCV3h"
      },
      "execution_count": null,
      "outputs": []
    },
    {
      "cell_type": "code",
      "source": [
        "!npm install localtunnel"
      ],
      "metadata": {
        "id": "Nqap_1cea8CF"
      },
      "execution_count": null,
      "outputs": []
    },
    {
      "cell_type": "code",
      "source": [
        "!streamlit run app.py&>/content/logs.txt &"
      ],
      "metadata": {
        "id": "eWiVLxTZbbm0"
      },
      "execution_count": null,
      "outputs": []
    },
    {
      "cell_type": "code",
      "source": [
        "!npx localtunnel --port 8501"
      ],
      "metadata": {
        "colab": {
          "base_uri": "https://localhost:8080/"
        },
        "id": "7GFq0JXfcGf1",
        "outputId": "bd77fbc1-9479-4822-b0d6-c5b56e44cfc4"
      },
      "execution_count": null,
      "outputs": [
        {
          "metadata": {
            "tags": null
          },
          "name": "stdout",
          "output_type": "stream",
          "text": [
            "\u001b[1G\u001b[0K⠙\u001b[1G\u001b[0Kyour url is: https://sweet-camels-run.loca.lt\n"
          ]
        }
      ]
    }
  ]
}